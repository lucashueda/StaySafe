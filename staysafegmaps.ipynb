{
 "cells": [
  {
   "cell_type": "markdown",
   "metadata": {},
   "source": [
    "## Imports"
   ]
  },
  {
   "cell_type": "code",
   "execution_count": null,
   "metadata": {},
   "outputs": [],
   "source": [
    "import googlemaps\n",
    "from datetime import datetime\n",
    "import requests"
   ]
  },
  {
   "cell_type": "markdown",
   "metadata": {},
   "source": [
    "## Support functions"
   ]
  },
  {
   "cell_type": "code",
   "execution_count": null,
   "metadata": {},
   "outputs": [],
   "source": [
    "def geo_location():\n",
    "    import geocoder\n",
    "    g = geocoder.ip(\"me\")\n",
    "    return g"
   ]
  },
  {
   "cell_type": "markdown",
   "metadata": {},
   "source": [
    "## Beginning Code"
   ]
  },
  {
   "cell_type": "markdown",
   "metadata": {},
   "source": [
    "### Google Place Search Class"
   ]
  },
  {
   "cell_type": "code",
   "execution_count": null,
   "metadata": {},
   "outputs": [],
   "source": [
    "with open('api_key.txt','r') as file:\n",
    "    api_key = file.read()\n",
    "\n",
    "class StaySafe_places:\n",
    "    def __init__(self):\n",
    "        self.geo = geo_location()\n",
    "        self.g_maps = googlemaps.Client(key=api_key)\n",
    "        self.map_url = \"https://maps.googleapis.com/maps/api/staticmap?\"\n",
    "\n",
    "    def get_places_nearby(self, max_results, max_radius):\n",
    "        places = self.g_maps.places_nearby(\n",
    "            location=(self.geo.lat, self.geo.lng),\n",
    "            type=\"gas_station\",\n",
    "            language=\"pt-BR\",\n",
    "            open_now=True,\n",
    "            # radius=max_radius,\n",
    "            rank_by='distance'\n",
    "        )\n",
    "        if len(places[\"results\"]) > max_results:\n",
    "            return places[\"results\"][0:max_results]\n",
    "        else:\n",
    "            return places[\"results\"]\n",
    "\n",
    "    def get_directions_info(self, destiny_address, time=None):\n",
    "        # Request directions via public transit\n",
    "        if time is None:\n",
    "            time = datetime.now()\n",
    "        directions_result = self.g_maps.directions(\n",
    "            origin=(self.geo.lat, self.geo.lng),\n",
    "            destination=destiny_address,\n",
    "            mode=\"driving\",\n",
    "            departure_time=time,\n",
    "        )\n",
    "        return directions_result[0]\n",
    "\n",
    "    def get_places_rec(self, max_results=10, max_radius=10000):\n",
    "        places_json = {}\n",
    "        places_nearby = self.get_places_nearby(max_results, max_radius)\n",
    "        for place in places_nearby:\n",
    "            general_info = self.get_directions_info(destiny_address=place[\"vicinity\"])\n",
    "            directions_info = general_info[\"legs\"][0]\n",
    "            \n",
    "            func_treat = (lambda place, key, default=\"\": place[key] if key in place.keys() else default)\n",
    "\n",
    "            places_json[place[\"name\"]] = dict(\n",
    "                address=func_treat(place, \"vicinity\"),\n",
    "                coord=(\n",
    "                    place[\"geometry\"][\"location\"][\"lat\"],\n",
    "                    place[\"geometry\"][\"location\"][\"lng\"],\n",
    "                ),\n",
    "                rating=func_treat(place, \"rating\", \"Sem nota\"),\n",
    "                distance=func_treat(func_treat(directions_info, \"distance\"),\"text\"),\n",
    "                travel_time=func_treat(func_treat(directions_info, \"duration\"),\"text\"),\n",
    "                place_id=func_treat(place, \"place_id\"),\n",
    "                polyline=func_treat(func_treat(general_info, \"overview_polyline\"),\"points\")\n",
    "            )\n",
    "\n",
    "        return places_json\n",
    "\n",
    "    def get_map(self, place_info, file_path):\n",
    "        g = geo_location()\n",
    "        geo_latlng = str(g.latlng)[1:-1]\n",
    "        destiny_address = str(place_info[\"coord\"])[1:-1]\n",
    "        polyline = place_info[\"polyline\"]\n",
    "\n",
    "        map_request = (\n",
    "            f\"size=400x400\"\n",
    "            f\"&markers=color:blue%7Clabel:I%7C{geo_latlng}\"\n",
    "            f\"&markers=color:red%7Clabel:F%7C{destiny_address}\"\n",
    "            f\"&path=weight:5%7Ccolor:0x2A3DF89f%7Cenc:{polyline}\"\n",
    "            f\"&key={api_key}\"\n",
    "        )\n",
    "\n",
    "        request = self.map_url + map_request\n",
    "        response = requests.get(request)\n",
    "\n",
    "        with open(file_path, \"wb\") as image:\n",
    "            image.write(response.content)"
   ]
  },
  {
   "cell_type": "markdown",
   "metadata": {},
   "source": [
    "##  Class Tests"
   ]
  },
  {
   "cell_type": "code",
   "execution_count": null,
   "metadata": {
    "scrolled": true
   },
   "outputs": [],
   "source": [
    "if __name__ == '__main__':\n",
    "    test = StaySafe_places()\n",
    "    places = test.get_places_rec(max_results=1,max_radius=10000)\n",
    "    for i in places:\n",
    "        file_path = i+'.png'\n",
    "        place = places[i]\n",
    "        print(place)\n",
    "        test.get_map(place_info=place, file_path=file_path)"
   ]
  }
 ],
 "metadata": {
  "kernelspec": {
   "display_name": "Python 3",
   "language": "python",
   "name": "python3"
  },
  "language_info": {
   "codemirror_mode": {
    "name": "ipython",
    "version": 3
   },
   "file_extension": ".py",
   "mimetype": "text/x-python",
   "name": "python",
   "nbconvert_exporter": "python",
   "pygments_lexer": "ipython3",
   "version": "3.7.4"
  }
 },
 "nbformat": 4,
 "nbformat_minor": 2
}
